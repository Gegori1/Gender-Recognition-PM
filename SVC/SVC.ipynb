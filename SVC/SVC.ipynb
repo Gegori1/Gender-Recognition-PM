{
 "cells": [
  {
   "cell_type": "code",
   "execution_count": 2,
   "metadata": {},
   "outputs": [],
   "source": [
    "# import tensorflow as tf\n",
    "\n",
    "from scipy.stats import wasserstein_distance\n",
    "from sklearn.svm import SVC\n",
    "import numpy as np\n",
    "import pandas as pd\n",
    "\n",
    "# from google.colab import drive\n",
    "# colab.mount('/content/drive')"
   ]
  },
  {
   "cell_type": "code",
   "execution_count": 4,
   "metadata": {},
   "outputs": [],
   "source": [
    "path_to_images = '/content/drive/My Drive/images_face_classificator/data/'\n",
    "path_f_train = path_to_images + 'Female/'\n",
    "path_m_train = path_to_images + 'Male/'"
   ]
  },
  {
   "cell_type": "code",
   "execution_count": null,
   "metadata": {},
   "outputs": [],
   "source": [
    "# load the data iin path_f_train and path_m_train and flatten it. convert to pandas dataframe\n",
    "\n",
    "# load the data\n",
    "f_train = np.load(path_f_train + 'f_train.npy')\n",
    "m_train = np.load(path_m_train + 'm_train.npy')"
   ]
  },
  {
   "cell_type": "code",
   "execution_count": 3,
   "metadata": {},
   "outputs": [
    {
     "data": {
      "text/plain": [
       "<function numpy.load(file, mmap_mode=None, allow_pickle=False, fix_imports=True, encoding='ASCII', *, max_header_size=10000)>"
      ]
     },
     "execution_count": 3,
     "metadata": {},
     "output_type": "execute_result"
    }
   ],
   "source": []
  },
  {
   "cell_type": "code",
   "execution_count": null,
   "metadata": {},
   "outputs": [],
   "source": [
    "# flatten the data\n",
    "f_train = f_train.reshape(f_train.shape[0], -1)\n",
    "m_train = m_train.reshape(m_train.shape[0], -1)\n",
    "\n",
    "# convert to pandas dataframe\n",
    "f_train = pd.DataFrame(f_train)\n",
    "m_train = pd.DataFrame(m_train)\n",
    "\n",
    "# add the label column\n",
    "f_train['label'] = 0\n",
    "m_train['label'] = 1\n",
    "\n",
    "# concatenate the dataframes\n",
    "data = pd.concat([f_train, m_train], ignore_index=True)\n",
    "\n",
    "# shuffle the data\n",
    "data = data.sample(frac=1).reset_index(drop=True)\n",
    "\n",
    "# split the data into train and test\n",
    "train = data[:int(0.8*data.shape[0])]\n",
    "test = data[int(0.8*data.shape[0]):]\n",
    "\n",
    "# split the train and test into X and y\n",
    "X_train = train.iloc[:, :-1]\n",
    "y_train = train.iloc[:, -1]\n",
    "\n",
    "X_test = test.iloc[:, :-1]\n",
    "y_test = test.iloc[:, -1]\n",
    "\n",
    "# train the model\n",
    "clf = SVC()\n",
    "clf.fit(X_train, y_train)\n",
    "\n",
    "# predict the test data\n",
    "y_pred = clf.predict(X_test)\n",
    "\n",
    "# calculate the wasserstein distance\n",
    "wasserstein_distance(y_test, y_pred)\n",
    "\n",
    "# save the model\n",
    "import pickle\n",
    "pickle.dump(clf, open('svc_model.pkl', 'wb'))\n",
    "\n",
    "# load the model\n",
    "model = pickle.load(open('svc_model.pkl', 'rb'))\n",
    "\n",
    "# predict the test data\n",
    "y_pred = model.predict(X_test)\n",
    "\n",
    "# calculate the wasserstein distance\n",
    "wasserstein_distance(y_test, y_pred)"
   ]
  }
 ],
 "metadata": {
  "kernelspec": {
   "display_name": "Python 3",
   "language": "python",
   "name": "python3"
  },
  "language_info": {
   "codemirror_mode": {
    "name": "ipython",
    "version": 3
   },
   "file_extension": ".py",
   "mimetype": "text/x-python",
   "name": "python",
   "nbconvert_exporter": "python",
   "pygments_lexer": "ipython3",
   "version": "3.10.8"
  }
 },
 "nbformat": 4,
 "nbformat_minor": 2
}
